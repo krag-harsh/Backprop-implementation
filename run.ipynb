{
  "cells": [
    {
      "cell_type": "code",
      "execution_count": null,
      "metadata": {
        "id": "0F-Hbc-XOext"
      },
      "outputs": [],
      "source": [
        "import math\n",
        "import random\n",
        "import numpy as np\n",
        "import pandas as pd\n",
        "from tqdm import tqdm\n",
        "from sklearn import datasets\n",
        "from sklearn.neural_network import MLPClassifier\n",
        "from sklearn.model_selection import train_test_split\n",
        "from sklearn.preprocessing import StandardScaler\n",
        "import matplotlib.pyplot as plt\n",
        "import pickle"
      ]
    },
    {
      "cell_type": "code",
      "execution_count": null,
      "metadata": {
        "colab": {
          "base_uri": "https://localhost:8080/"
        },
        "id": "FSULig7ECyw3",
        "outputId": "b14cf432-0ec7-47de-9f12-cc42d50c72f0"
      },
      "outputs": [
        {
          "name": "stdout",
          "output_type": "stream",
          "text": [
            "Drive already mounted at /content/drive; to attempt to forcibly remount, call drive.mount(\"/content/drive\", force_remount=True).\n"
          ]
        }
      ],
      "source": [
        "# from google.colab import drive\n",
        "# drive.mount('/content/drive')"
      ]
    },
    {
      "cell_type": "code",
      "execution_count": null,
      "metadata": {
        "id": "0e-R1c8l6Gy0"
      },
      "outputs": [],
      "source": [
        "df_train = pd.read_csv('fashion-mnist_train.csv')"
      ]
    },
    {
      "cell_type": "code",
      "execution_count": null,
      "metadata": {
        "id": "d75Xgae2c_Hv"
      },
      "outputs": [],
      "source": [
        "TRAIN=np.array(df_train.drop(columns=['label']))\n",
        "TRAIN=TRAIN/255  # normalising the inputs\n",
        "YTRAIN=np.array(df_train.label)\n",
        "\n",
        "Xtrain, X, ytrain, Y = train_test_split(TRAIN,YTRAIN,test_size=0.2)  # deviding the 60000 samples to 80% training\n",
        "Xval, x_test, yval, y_test= train_test_split(X,Y,test_size=0.5)  # 10 % val and 10% test"
      ]
    },
    {
      "cell_type": "code",
      "execution_count": null,
      "metadata": {
        "colab": {
          "base_uri": "https://localhost:8080/"
        },
        "id": "p-FaxltDdP1e",
        "outputId": "75270ac7-4623-4a2b-c337-bbd4164b66c9"
      },
      "outputs": [
        {
          "name": "stdout",
          "output_type": "stream",
          "text": [
            "(48000, 784) (48000,) (6000, 784) (6000,) (6000, 784) (6000,)\n"
          ]
        }
      ],
      "source": [
        "print(Xtrain.shape, ytrain.shape, Xval.shape, yval.shape, x_test.shape, y_test.shape)"
      ]
    },
    {
      "cell_type": "code",
      "execution_count": null,
      "metadata": {
        "id": "AlyznLOROf1_"
      },
      "outputs": [],
      "source": [
        "class MyNeuralNetwork():\n",
        "  \"\"\"\n",
        "  My implementation of a Neural Network Classifier.\n",
        "  \"\"\"\n",
        "  acti_fns = ['relu', 'sigmoid', 'linear', 'tanh', 'softmax']\n",
        "  weight_inits = ['zero', 'random', 'normal']\n",
        "\n",
        "  def __init__(self, n_layers, layer_sizes, activation, learning_rate, weight_init, batch_size, num_epochs):\n",
        "    if activation not in self.acti_fns:\n",
        "        raise Exception('Incorrect Activation Function')\n",
        "    if weight_init not in self.weight_inits:\n",
        "        raise Exception('Incorrect Weight Initialization Function')\n",
        "\n",
        "    self.n_layers=n_layers #int value specifying the number of layers\n",
        "    self.layer_sizes=layer_sizes #integer array of size n_layers specifying the number of nodes in each layer\n",
        "    self.activation=activation  # string specifying the activation function to be used, possible inputs: relu, sigmoid, linear, tanh\n",
        "    self.learning_rate=learning_rate #float value specifying the learning rate to be used\n",
        "    self.weight_init=weight_init #string specifying the weight initialization function to be used,possible inputs: zero, random, normal\n",
        "    self.batch_size=batch_size #int value specifying the batch size to be used\n",
        "    self.num_epochs=num_epochs #int value specifying the number of epochs to be used\n",
        "\n",
        "    self.W={}  ## this will contain all the parameters\n",
        "    self.B={}\n",
        "\n",
        "    self.Zs={}  ## this will contain values after forward prop useful for back prop\n",
        "    self.As={}\n",
        "    self.initialize_weights_byinput()  # initializing the weights\n",
        "    ## specifing the funciton according to parameter for future use\n",
        "    if activation==\"relu\":\n",
        "      self.a_fn = self.relu\n",
        "      self.a_fng = self.relu_grad\n",
        "    elif activation==\"sigmoid\":\n",
        "      self.a_fn = self.sigmoid\n",
        "      self.a_fng = self.sigmoid_grad\n",
        "    elif activation==\"linear\":\n",
        "      self.a_fn = self.linear\n",
        "      self.a_fng = self.linear_grad\n",
        "    elif activation==\"tanh\":\n",
        "      self.a_fn = self.tanh\n",
        "      self.a_fng = self.tanh_grad\n",
        "    self.train_loss=[]  # this will store loss during training\n",
        "    self.val_loss=[]\n",
        "\n",
        "  def initialize_weights_byinput(self):\n",
        "    wtype=self.weight_init\n",
        "    if(wtype==\"zero\"):\n",
        "      for i in range(1,self.n_layers):\n",
        "        self.W[i]=self.zero_init((self.layer_sizes[i],self.layer_sizes[i-1])) ### shape of each W matrix will be #of neurons in that layerXthat in previous layer\n",
        "        self.B[i]=self.zero_init((self.layer_sizes[i],1))  \n",
        "    elif(wtype==\"random\"):\n",
        "      for i in range(1,self.n_layers):\n",
        "        self.W[i]=self.random_init((self.layer_sizes[i],self.layer_sizes[i-1]))\n",
        "        self.B[i]=self.random_init((self.layer_sizes[i],1))\n",
        "    else:\n",
        "      for i in range(1,self.n_layers):\n",
        "        self.W[i]=self.normal_init((self.layer_sizes[i],self.layer_sizes[i-1]))\n",
        "        self.B[i]=self.normal_init((self.layer_sizes[i],1))\n",
        "\n",
        "  def compare_with_mlp(self,loss_from_your_model,X,y):\n",
        "    # comparing with MLP\n",
        "    # X is all data and Y is all labels\n",
        "    X_train, X_test, y_train, y_test = train_test_split(X, y, test_size=0.1)\n",
        "    mlp = MLPClassifier(hidden_layer_sizes=(256, 128, 64), activation ='relu',solver = 'sgd' , alpha = 0, batch_size = 32,max_iter=100, learning_rate_init = 0.001, learning_rate = 'constant',shuffle=True,momentum = 0,nesterovs_momentum=False,validation_fraction = 0.1)\n",
        "    mlp.fit(X_train, y_train)\n",
        "    loss_from_sklearn = mlp.loss_curve_\n",
        "\n",
        "    plt.plot(loss_from_sklearn,label=\"sklearn\")\n",
        "    plt.plot(loss_from_your_model,label=\"your NN\")\n",
        "    plt.legend(loc=\"upper left\")\n",
        "    plt.savefig(\"result.png\")\n",
        "    plt.close()\n",
        "\n",
        "  def relu(self, X):\n",
        "    return np.maximum(0,X)\n",
        "\n",
        "  def relu_grad(self, X):\n",
        "    f=X\n",
        "    f[X<0]=0\n",
        "    f[X>0]=1.0\n",
        "    return f\n",
        "\n",
        "  def sigmoid(self, X):\n",
        "    si= 1+np.exp(-X)\n",
        "    si=1/si\n",
        "    return si\n",
        "\n",
        "  def sigmoid_grad(self, X):\n",
        "    s=self.sigmoid(X) \n",
        "    return s*(1-s)\n",
        "\n",
        "  def linear(self, X):\n",
        "    return X\n",
        "\n",
        "  def linear_grad(self, X):\n",
        "    s=X.shape\n",
        "    return np.ones(s)\n",
        "\n",
        "  def tanh(self, X):\n",
        "    return np.tanh(X)\n",
        "\n",
        "  def tanh_grad(self, X):\n",
        "    return 1-(self.tanh(X)**2)\n",
        "\n",
        "  def softmax(self, X):\n",
        "    e=np.exp(X)\n",
        "    de=np.sum(e,axis=0,keepdims=True)\n",
        "    return e/de\n",
        "\n",
        "  def softmax_grad(self, X):\n",
        "    s=self.softmax(X)\n",
        "    jm=np.diag(s)  # gradient of a softmax is a 2d matrix(jacobian)\n",
        "    l=len(jm)\n",
        "    for i in range(l):\n",
        "      for j in range(l):\n",
        "        if(i!=j):\n",
        "          jm[i][j]=-s[i]*s[j]\n",
        "        else:\n",
        "          jm[i][j]=s[i]*(1-s[i])\n",
        "    return jm\n",
        "\n",
        "  def zero_init(self, shape):\n",
        "    return np.zeros(shape)\n",
        "\n",
        "  def random_init(self, shape):\n",
        "    return np.random.randn(shape[0],shape[1])*0.01\n",
        "\n",
        "  def normal_init(self, shape):\n",
        "    return np.random.normal(size=shape)*0.01\n",
        "\n",
        "  def fit(self, X, y, xval,yval):\n",
        "    # fit function has to return an instance of itself or else it won't work with test.py\n",
        "    m=len(X)\n",
        "    bs=self.batch_size\n",
        "    a=[i for i in range(m)]  # storing the indexes\n",
        "    # toseloss=[]\n",
        "    for e in range(self.num_epochs):\n",
        "      np.random.shuffle(a)  # suffled the training indexes\n",
        "      losses=0  # for one batch initilising loss as 0\n",
        "      for i in range(0,m//bs):\n",
        "        ind=a[bs*i:bs*(i+1)]  # getting the indexes to use\n",
        "        X_t=X[ind]  # batch_sizex784\n",
        "        Y_t=y[ind]\n",
        "        output=self.predict_proba(X_t)  # finding the probability on the input\n",
        "        loss=self.crossentropyloss(output,Y_t)  # getting the loss\n",
        "        self.backpropagation(loss, Y_t)  # backpropagating and updating weights\n",
        "        # print(f\"After epoch {e+1} loss at i {i} = {loss}\")\n",
        "        losses+=loss\n",
        "      if((e+1)%5==0):\n",
        "        print(f\"Epoch {e+1} done\")\n",
        "      self.train_loss.append(losses/(m//bs))  # saving the losses\n",
        "      self.validate(xval,yval)  # saving validation loss\n",
        "      if((e+1)%50==0):  # after every 50 epochs saving the weights and biases\n",
        "        print(\"epoch 50,saving model parameters\")\n",
        "        p_namew=f\"{e+1}_{self.activation}_weights.pkl\"\n",
        "        p_nameb=f\"{e+1}_{self.activation}_biases.pkl\"\n",
        "        f1=open(p_namew, \"wb\")\n",
        "        pickle.dump(self.W,f1)  # saving weights\n",
        "        f1.close()\n",
        "        f2=open(p_nameb, \"wb\")\n",
        "        pickle.dump(self.B,f2)  # saving baises\n",
        "        f2.close()\n",
        "        print(f\"After epoch {e+1} Train loss = {self.train_loss[-1]}\")\n",
        "    return self\n",
        "\n",
        "  def validate(self,xval,yval):  # wrote this function for validation\n",
        "    output=self.predict_proba(xval)\n",
        "    loss=self.crossentropyloss(output,yval)\n",
        "    self.val_loss.append(loss)\n",
        "\n",
        "  def predict_proba(self, X):\n",
        "    \"\"\"\n",
        "    Predicting probabilities using the trained linear model.\n",
        "    Parameters\n",
        "    X : 2-dimensional numpy array of shape (n_samples, n_features) which acts as testing data.\n",
        "    Returns\n",
        "    y : 2-dimensional numpy array of shape (n_samples, n_classes) which contains the \n",
        "        class wise prediction probabilities.\n",
        "    \"\"\"\n",
        "    # return the numpy array y which contains the predicted values\n",
        "    a=X.T  # make a of shape 728xm\n",
        "    self.Zs={}\n",
        "    self.As={}\n",
        "    self.As[0]=a # first layer activation is same as input\n",
        "    for i in range(1,self.n_layers-1):\n",
        "      z=self.W[i].dot(a)+self.B[i]  # (ix(i-1)) X ((i-1)xm) = ixm\n",
        "      self.Zs[i]=z\n",
        "      a=self.a_fn(z)  # applying activation function # ixm\n",
        "      self.As[i]=a  \n",
        "    z=self.W[self.n_layers-1].dot(a)\n",
        "    self.Zs[self.n_layers-1]=z\n",
        "    a=self.softmax(z)  # applying softmax in the last layer\n",
        "    self.As[self.n_layers-1]=a\n",
        "    return a.T\n",
        "\n",
        "  def predict(self, X):\n",
        "    pre_prob=self.predict_proba(X)\n",
        "    return np.argmax(pre_prob.T,axis=0)  # finding the index of the maximum probability\n",
        "\n",
        "  def score(self, X, y):\n",
        "    yp=self.predict(X)  # getting the probabilities\n",
        "    a= (yp==y)\n",
        "    a=a.sum()\n",
        "    return a/len(y)\n",
        "\n",
        "  def crossentropyloss(self, ypred, ytrue):\n",
        "    one_hot_targets = np.eye(10)[ytrue]   # 10 is the final number of class\n",
        "    a=one_hot_targets*np.log(ypred + 1e-9) \n",
        "    a= -np.sum(a)\n",
        "    return a/len(ytrue)\n",
        "\n",
        "  def backpropagation(self,loss,ytrue):  # creating this function which will update the parameters\n",
        "    nl=self.n_layers\n",
        "    m=ytrue.shape[0]\n",
        "    one_hot_targets = np.eye(10)[ytrue]  # (m, 10)\n",
        "    error= self.As[nl-1]-one_hot_targets.T  # (10,m)\n",
        "    dz=error\n",
        "    # from da[l] have to find da[l-1], dw[l], db[l]\n",
        "    dw= dz.dot(self.As[nl-2].T)/m   # (ixm) X ((i-1)xm)T = (ix(i-1))\n",
        "    db=np.sum(dz,keepdims=True, axis=1)/m\n",
        "    da_l_minus_one= np.dot(self.W[nl-1].T, dz)  # (ix(i-1)).T X (ixm) = (i-1)xm\n",
        "    # update parameter of last layer\n",
        "    self.W[nl-1]= self.W[nl-1] - self.learning_rate*dw\n",
        "    self.B[nl-1]=self.B[nl-1] - self.learning_rate*db\n",
        "    for i in range(nl-2,0,-1):\n",
        "      dz=da_l_minus_one* self.a_fng(self.Zs[i])  # same as a[l]= ixm\n",
        "      dw=np.dot(dz, self.As[i-1].T)/m  # (ixm) X ((i-1)xm)T = (ix(i-1))\n",
        "      db=np.sum(dz,keepdims=True, axis=1)/m\n",
        "      da_l_minus_one=np.dot(self.W[i].T,dz)   # (ix(i-1)).T X (ixm) = (i-1)xm\n",
        "      # update parameters\n",
        "      self.W[i]= self.W[i] - self.learning_rate*dw\n",
        "      self.B[i]= self.B[i] - self.learning_rate*db\n"
      ]
    },
    {
      "cell_type": "markdown",
      "metadata": {
        "id": "F7rMQQtSrWK4"
      },
      "source": [
        "### training models"
      ]
    },
    {
      "cell_type": "code",
      "execution_count": null,
      "metadata": {
        "colab": {
          "base_uri": "https://localhost:8080/"
        },
        "id": "IeIZ02rASvHO",
        "outputId": "1cf5058f-ca3a-4e47-ecf6-6f5291e239c4"
      },
      "outputs": [
        {
          "name": "stdout",
          "output_type": "stream",
          "text": [
            "Started training with activation relu\n",
            "Epoch 5 done\n",
            "Epoch 10 done\n",
            "Epoch 15 done\n",
            "Epoch 20 done\n",
            "Epoch 25 done\n",
            "Epoch 30 done\n",
            "Epoch 35 done\n",
            "Epoch 40 done\n",
            "Epoch 45 done\n",
            "Epoch 50 done\n",
            "epoch 50,saving model parameters\n",
            "After epoch 50 Train loss = 0.12076592505280792\n",
            "Epoch 55 done\n",
            "Epoch 60 done\n",
            "Epoch 65 done\n",
            "Epoch 70 done\n",
            "Epoch 75 done\n",
            "Epoch 80 done\n",
            "Epoch 85 done\n",
            "Epoch 90 done\n",
            "Epoch 95 done\n",
            "Epoch 100 done\n",
            "epoch 50,saving model parameters\n",
            "After epoch 100 Train loss = 0.06570969904666077\n",
            "Started training with activation sigmoid\n",
            "Epoch 5 done\n",
            "Epoch 10 done\n",
            "Epoch 15 done\n",
            "Epoch 20 done\n",
            "Epoch 25 done\n",
            "Epoch 30 done\n",
            "Epoch 35 done\n",
            "Epoch 40 done\n",
            "Epoch 45 done\n",
            "Epoch 50 done\n",
            "epoch 50,saving model parameters\n",
            "After epoch 50 Train loss = 0.29980554465909337\n",
            "Epoch 55 done\n",
            "Epoch 60 done\n",
            "Epoch 65 done\n",
            "Epoch 70 done\n",
            "Epoch 75 done\n",
            "Epoch 80 done\n",
            "Epoch 85 done\n",
            "Epoch 90 done\n",
            "Epoch 95 done\n",
            "Epoch 100 done\n",
            "epoch 50,saving model parameters\n",
            "After epoch 100 Train loss = 0.18288640432648698\n",
            "Started training with activation linear\n",
            "Epoch 5 done\n"
          ]
        },
        {
          "name": "stderr",
          "output_type": "stream",
          "text": [
            "/usr/local/lib/python3.7/dist-packages/ipykernel_launcher.py:105: RuntimeWarning: overflow encountered in exp\n",
            "/usr/local/lib/python3.7/dist-packages/ipykernel_launcher.py:107: RuntimeWarning: invalid value encountered in true_divide\n"
          ]
        },
        {
          "name": "stdout",
          "output_type": "stream",
          "text": [
            "Epoch 10 done\n",
            "Epoch 15 done\n",
            "Epoch 20 done\n",
            "Epoch 25 done\n",
            "Epoch 30 done\n",
            "Epoch 35 done\n",
            "Epoch 40 done\n",
            "Epoch 45 done\n",
            "Epoch 50 done\n",
            "epoch 50,saving model parameters\n",
            "After epoch 50 Train loss = nan\n",
            "Epoch 55 done\n",
            "Epoch 60 done\n",
            "Epoch 65 done\n",
            "Epoch 70 done\n",
            "Epoch 75 done\n",
            "Epoch 80 done\n",
            "Epoch 85 done\n",
            "Epoch 90 done\n",
            "Epoch 95 done\n",
            "Epoch 100 done\n",
            "epoch 50,saving model parameters\n",
            "After epoch 100 Train loss = nan\n",
            "Started training with activation tanh\n",
            "Epoch 5 done\n",
            "Epoch 10 done\n",
            "Epoch 15 done\n",
            "Epoch 20 done\n",
            "Epoch 25 done\n",
            "Epoch 30 done\n",
            "Epoch 35 done\n",
            "Epoch 40 done\n",
            "Epoch 45 done\n",
            "Epoch 50 done\n",
            "epoch 50,saving model parameters\n",
            "After epoch 50 Train loss = 0.13384313232873812\n",
            "Epoch 55 done\n",
            "Epoch 60 done\n",
            "Epoch 65 done\n",
            "Epoch 70 done\n",
            "Epoch 75 done\n",
            "Epoch 80 done\n",
            "Epoch 85 done\n",
            "Epoch 90 done\n",
            "Epoch 95 done\n",
            "Epoch 100 done\n",
            "epoch 50,saving model parameters\n",
            "After epoch 100 Train loss = 0.06057074485039586\n"
          ]
        }
      ],
      "source": [
        "actF = ['relu', 'sigmoid', 'linear', 'tanh']\n",
        "Fmodels=[]  # this list will save final trained models\n",
        "for activation in actF:\n",
        "  nn=MyNeuralNetwork(n_layers=5, layer_sizes=[784,256,128,64,10], activation=activation, learning_rate=0.1, weight_init='normal', batch_size=32, num_epochs=100)\n",
        "  print(\"Started training with activation\",activation)\n",
        "  nn.fit(Xtrain,ytrain,Xval,yval)  # training the models using training data\n",
        "  Fmodels.append(nn)  # saving the trained model in list"
      ]
    },
    {
      "cell_type": "code",
      "execution_count": null,
      "metadata": {
        "colab": {
          "base_uri": "https://localhost:8080/",
          "height": 477
        },
        "id": "cpOokXvUnYU4",
        "outputId": "c3573365-127d-4890-dd82-730e9306c76c"
      },
      "outputs": [
        {
          "data": {
            "image/png": "[encoded data removed]",
            "text/plain": [
              "<Figure size 432x216 with 2 Axes>"
            ]
          },
          "metadata": {},
          "output_type": "display_data"
        },
        {
          "data": {
            "image/png": "[encoded data removed]",
            "text/plain": [
              "<Figure size 432x216 with 2 Axes>"
            ]
          },
          "metadata": {},
          "output_type": "display_data"
        }
      ],
      "source": [
        "import matplotlib.pyplot as plt\n",
        "\n",
        "for i in range(2):  ##plotted only for relu and sigmoid(first 2 activations)\n",
        "  fig, axs = plt.subplots(1, 2, figsize=(6, 3), sharey=True)\n",
        "  axs[0].plot(Fmodels[i].train_loss)\n",
        "  axs[0].set_title(\"Training loss\")\n",
        "  axs[0].set_xlabel(\"Iteration\")\n",
        "  axs[0].set_ylabel(\"Loss\")\n",
        "  axs[1].plot(Fmodels[i].val_loss)\n",
        "  axs[1].set_title(\"Validation loss\")\n",
        "  axs[1].set_xlabel(\"Iteration\")\n",
        "  axs[1].set_ylabel(\"Loss\")\n",
        "  fig.suptitle(f'Losses for Activation {actF[i]}')\n",
        "  plt.show()"
      ]
    },
    {
      "cell_type": "code",
      "execution_count": null,
      "metadata": {
        "colab": {
          "base_uri": "https://localhost:8080/"
        },
        "id": "YNm83NVeqvrL",
        "outputId": "0a2fcd0d-6e1d-4efa-89d0-85dce2f947fa"
      },
      "outputs": [
        {
          "name": "stdout",
          "output_type": "stream",
          "text": [
            "Score of model with relu on 50th epoch=0.8971666666666667\n",
            "Score of model with relu on 100th epoch=0.8931666666666667\n",
            "Score of model with sigmoid on 50th epoch=0.8713333333333333\n",
            "Score of model with sigmoid on 100th epoch=0.8905\n",
            "Score of model with linear on 50th epoch=0.099\n",
            "Score of model with linear on 100th epoch=0.099\n",
            "Score of model with tanh on 50th epoch=0.8898333333333334\n",
            "Score of model with tanh on 100th epoch=0.8828333333333334\n"
          ]
        }
      ],
      "source": [
        "# code to import saved models and check accuracy on test data\n",
        "actF = ['relu', 'sigmoid', 'linear', 'tanh']\n",
        "ep=[50,100]\n",
        "for i in range(4):\n",
        "  activation=actF[i]\n",
        "  model=Fmodels[i]\n",
        "  nn=MyNeuralNetwork(n_layers=5, layer_sizes=[784,256,128,64,10], activation=activation, learning_rate=0.1, weight_init='normal', batch_size=32, num_epochs=100)\n",
        "  for e in ep:\n",
        "    p_namew=f\"{e}_{activation}_weights.pkl\"\n",
        "    p_nameb=f\"{e}_{activation}_biases.pkl\"\n",
        "    nn.W=pickle.load(open(p_namew, \"rb\"))  # loading the saved weights and replacing putting them in the architecture\n",
        "    nn.B=pickle.load(open(p_nameb, \"rb\"))\n",
        "    print(f\"Score of model with {activation} on {e}th epoch={nn.score(x_test,y_test)}\")  # getting the scores of the models"
      ]
    },
    {
      "cell_type": "markdown",
      "metadata": {
        "id": "g0eZUKMDvaUS"
      },
      "source": [
        "### 1.6"
      ]
    },
    {
      "cell_type": "code",
      "execution_count": 15,
      "metadata": {
        "colab": {
          "base_uri": "https://localhost:8080/",
          "height": 1000
        },
        "id": "hahfvhNKRnGw",
        "outputId": "6c60a6b5-c36c-4d02-a11a-5dcf100c83af"
      },
      "outputs": [
        {
          "name": "stderr",
          "output_type": "stream",
          "text": [
            "/usr/local/lib/python3.7/dist-packages/sklearn/neural_network/_multilayer_perceptron.py:696: ConvergenceWarning: Stochastic Optimizer: Maximum iterations (100) reached and the optimization hasn't converged yet.\n",
            "  ConvergenceWarning,\n"
          ]
        },
        {
          "name": "stdout",
          "output_type": "stream",
          "text": [
            "Training with relu activation done\n",
            "Saved the model\n"
          ]
        },
        {
          "data": {
            "image/png": "[encoded data removed]",
            "text/plain": [
              "<Figure size 432x288 with 1 Axes>"
            ]
          },
          "metadata": {},
          "output_type": "display_data"
        },
        {
          "name": "stderr",
          "output_type": "stream",
          "text": [
            "/usr/local/lib/python3.7/dist-packages/sklearn/neural_network/_multilayer_perceptron.py:696: ConvergenceWarning: Stochastic Optimizer: Maximum iterations (50) reached and the optimization hasn't converged yet.\n",
            "  ConvergenceWarning,\n"
          ]
        },
        {
          "name": "stdout",
          "output_type": "stream",
          "text": [
            "Training with relu activation done\n"
          ]
        },
        {
          "name": "stderr",
          "output_type": "stream",
          "text": [
            "/usr/local/lib/python3.7/dist-packages/sklearn/neural_network/_multilayer_perceptron.py:696: ConvergenceWarning: Stochastic Optimizer: Maximum iterations (100) reached and the optimization hasn't converged yet.\n",
            "  ConvergenceWarning,\n"
          ]
        },
        {
          "name": "stdout",
          "output_type": "stream",
          "text": [
            "Training with logistic activation done\n",
            "Saved the model\n"
          ]
        },
        {
          "data": {
            "image/png": "[encoded data removed]",
            "text/plain": [
              "<Figure size 432x288 with 1 Axes>"
            ]
          },
          "metadata": {},
          "output_type": "display_data"
        },
        {
          "name": "stderr",
          "output_type": "stream",
          "text": [
            "/usr/local/lib/python3.7/dist-packages/sklearn/neural_network/_multilayer_perceptron.py:696: ConvergenceWarning: Stochastic Optimizer: Maximum iterations (50) reached and the optimization hasn't converged yet.\n",
            "  ConvergenceWarning,\n",
            "/usr/local/lib/python3.7/dist-packages/sklearn/utils/extmath.py:153: RuntimeWarning: overflow encountered in matmul\n",
            "  ret = a @ b\n",
            "/usr/local/lib/python3.7/dist-packages/sklearn/utils/extmath.py:153: RuntimeWarning: invalid value encountered in matmul\n",
            "  ret = a @ b\n",
            "/usr/local/lib/python3.7/dist-packages/sklearn/neural_network/_multilayer_perceptron.py:291: RuntimeWarning: invalid value encountered in double_scalars\n",
            "  loss += (0.5 * self.alpha) * values / n_samples\n"
          ]
        },
        {
          "name": "stdout",
          "output_type": "stream",
          "text": [
            "Training with logistic activation done\n"
          ]
        },
        {
          "name": "stderr",
          "output_type": "stream",
          "text": [
            "/usr/local/lib/python3.7/dist-packages/sklearn/neural_network/_multilayer_perceptron.py:696: ConvergenceWarning: Stochastic Optimizer: Maximum iterations (100) reached and the optimization hasn't converged yet.\n",
            "  ConvergenceWarning,\n"
          ]
        },
        {
          "name": "stdout",
          "output_type": "stream",
          "text": [
            "Training with identity activation done\n",
            "Saved the model\n"
          ]
        },
        {
          "data": {
            "image/png": "[encoded data removed]",
            "text/plain": [
              "<Figure size 432x288 with 1 Axes>"
            ]
          },
          "metadata": {
            "needs_background": "light"
          },
          "output_type": "display_data"
        },
        {
          "name": "stderr",
          "output_type": "stream",
          "text": [
            "/usr/local/lib/python3.7/dist-packages/sklearn/utils/extmath.py:153: RuntimeWarning: overflow encountered in matmul\n",
            "  ret = a @ b\n",
            "/usr/local/lib/python3.7/dist-packages/sklearn/neural_network/_base.py:66: RuntimeWarning: invalid value encountered in subtract\n",
            "  tmp = X - X.max(axis=1)[:, np.newaxis]\n",
            "/usr/local/lib/python3.7/dist-packages/sklearn/neural_network/_multilayer_perceptron.py:696: ConvergenceWarning: Stochastic Optimizer: Maximum iterations (50) reached and the optimization hasn't converged yet.\n",
            "  ConvergenceWarning,\n"
          ]
        },
        {
          "name": "stdout",
          "output_type": "stream",
          "text": [
            "Training with identity activation done\n"
          ]
        },
        {
          "name": "stderr",
          "output_type": "stream",
          "text": [
            "/usr/local/lib/python3.7/dist-packages/sklearn/neural_network/_multilayer_perceptron.py:696: ConvergenceWarning: Stochastic Optimizer: Maximum iterations (100) reached and the optimization hasn't converged yet.\n",
            "  ConvergenceWarning,\n"
          ]
        },
        {
          "name": "stdout",
          "output_type": "stream",
          "text": [
            "Training with tanh activation done\n",
            "Saved the model\n"
          ]
        },
        {
          "data": {
            "image/png": "[encoded data removed]",
            "text/plain": [
              "<Figure size 432x288 with 1 Axes>"
            ]
          },
          "metadata": {
            "needs_background": "light"
          },
          "output_type": "display_data"
        },
        {
          "name": "stdout",
          "output_type": "stream",
          "text": [
            "Training with tanh activation done\n"
          ]
        },
        {
          "name": "stderr",
          "output_type": "stream",
          "text": [
            "/usr/local/lib/python3.7/dist-packages/sklearn/neural_network/_multilayer_perceptron.py:696: ConvergenceWarning: Stochastic Optimizer: Maximum iterations (50) reached and the optimization hasn't converged yet.\n",
            "  ConvergenceWarning,\n"
          ]
        }
      ],
      "source": [
        "# comparing with MLP\n",
        "actF = ['relu', 'sigmoid', 'linear', 'tanh']\n",
        "sklearn_act=['relu','logistic', 'identity','tanh']  # storing the names which are given as parameters to sklearn libraries\n",
        "for i in range(4):\n",
        "  mlp = MLPClassifier(hidden_layer_sizes=(256, 128, 64), activation=sklearn_act[i],solver='sgd',alpha=0,batch_size=32,max_iter=100, learning_rate_init = 0.1, learning_rate = 'constant',shuffle=True,momentum = 0,nesterovs_momentum=False)\n",
        "  mlp.fit(Xtrain,ytrain)\n",
        "  print(f\"Training with {sklearn_act[i]} activation done\")\n",
        "\n",
        "  p_name=f\"sklearn_{sklearn_act[i]}_100.pkl\"\n",
        "  f3=open(p_name, \"wb\")\n",
        "  pickle.dump(mlp,f3)\n",
        "  f3.close()\n",
        "  print(\"Saved the model\")\n",
        "\n",
        "  loss_from_sklearn = mlp.loss_curve_\n",
        "  plt.plot(loss_from_sklearn,label=\"sklearn\")\n",
        "  plt.plot(Fmodels[i].train_loss,label=\"your NN\")\n",
        "  plt.legend(loc=\"upper left\")\n",
        "  plt.savefig(f\"result_{sklearn_act[i]}.png\")\n",
        "  plt.show()\n",
        "  plt.close()\n",
        "\n",
        "  mlp=MLPClassifier(hidden_layer_sizes=(256, 128, 64), activation=sklearn_act[i],solver='sgd',alpha=0,batch_size=32,max_iter=50, learning_rate_init = 0.1, learning_rate = 'constant',shuffle=True,momentum = 0,nesterovs_momentum=False)\n",
        "  mlp.fit(Xtrain,ytrain)\n",
        "  print(f\"Training with {sklearn_act[i]} activation done\")\n",
        "  p_name=f\"sklearn_{sklearn_act[i]}_50.pkl\"\n",
        "  f3=open(p_name, \"wb\")\n",
        "  pickle.dump(mlp,f3)\n",
        "  f3.close()"
      ]
    },
    {
      "cell_type": "code",
      "execution_count": 16,
      "metadata": {
        "colab": {
          "base_uri": "https://localhost:8080/"
        },
        "id": "hRSaiKCMDDyj",
        "outputId": "f001012d-930c-4afe-8950-e7b83b3f3898"
      },
      "outputs": [
        {
          "name": "stdout",
          "output_type": "stream",
          "text": [
            "Score of sklearn model trained with relu at 50th epoch = 0.8968333333333334\n",
            "Score of sklearn model trained with relu at 100th epoch = 0.9001666666666667\n",
            "Score of sklearn model trained with logistic at 50th epoch = 0.8846666666666667\n",
            "Score of sklearn model trained with logistic at 100th epoch = 0.8935\n",
            "Score of sklearn model trained with identity at 50th epoch = 0.099\n",
            "Score of sklearn model trained with identity at 100th epoch = 0.099\n",
            "Score of sklearn model trained with tanh at 50th epoch = 0.8813333333333333\n",
            "Score of sklearn model trained with tanh at 100th epoch = 0.8953333333333333\n"
          ]
        }
      ],
      "source": [
        "## accuracy of own NN were shown before\n",
        "# now loading and showing accuracies of models trained on sklearn\n",
        "sklearn_act=['relu','logistic', 'identity','tanh']\n",
        "it=[50,100]\n",
        "for i in sklearn_act:\n",
        "  for ni in it:\n",
        "    p_name=f\"sklearn_{i}_{ni}.pkl\"\n",
        "    mnn=pickle.load(open(p_name, \"rb\"))\n",
        "    print(f\"Score of sklearn model trained with {i} at {ni}th epoch = {mnn.score(x_test,y_test)}\")"
      ]
    }
  ],
  "metadata": {
    "colab": {
      "collapsed_sections": [],
      "name": "Q1 ML.ipynb",
      "provenance": []
    },
    "kernelspec": {
      "display_name": "Python 3",
      "name": "python3"
    },
    "language_info": {
      "name": "python"
    }
  },
  "nbformat": 4,
  "nbformat_minor": 0
}
